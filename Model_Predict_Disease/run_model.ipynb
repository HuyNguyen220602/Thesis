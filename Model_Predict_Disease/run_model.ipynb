{
 "cells": [
  {
   "cell_type": "code",
   "execution_count": 1,
   "metadata": {},
   "outputs": [
    {
     "name": "stdout",
     "output_type": "stream",
     "text": [
      "Class 6: 11.08%\n",
      "Class 5: 16.75%\n",
      "Class 1: 9.40%\n",
      "Class 4: 11.10%\n",
      "Class 3: 22.04%\n",
      "Class 2: 12.90%\n",
      "Class 7: 13.60%\n",
      "Class 0: 3.13%\n"
     ]
    }
   ],
   "source": [
    "import pickle\n",
    "from sklearn.preprocessing import StandardScaler, LabelEncoder\n",
    "from sklearn.decomposition import PCA\n",
    "import pandas as pd\n",
    "from collections import Counter\n",
    "import matplotlib.pyplot as plt\n",
    "import numpy as np\n",
    "\n",
    "# Load the model from the .pkl file\n",
    "with open('/home/Duchuy220602/thesis/Model_2/KNN_3.pkl', 'rb') as file:\n",
    "    loaded_model = pickle.load(file)\n",
    "\n",
    "# Step 2: Preprocess the CSV file data (if necessary)\n",
    "\n",
    "data = pd.read_csv('/home/Duchuy220602/thesis/file_feature/narco.csv')\n",
    "\n",
    "# Upsample the data to have at least 1645 rows\n",
    "current_rows = data.shape[0]\n",
    "rows_needed = max(1645, current_rows)\n",
    "repeat_factor = -(-rows_needed // current_rows)\n",
    "upsampled_data = data.sample(frac=repeat_factor, replace=True)\n",
    "\n",
    "# Preprocess the upsampled data using a standard scaler\n",
    "scaler = StandardScaler()  \n",
    "features_scaled = scaler.fit_transform(upsampled_data)\n",
    "\n",
    "# Apply PCA to scaled features\n",
    "n_components = 60  \n",
    "pca = PCA(n_components=n_components)\n",
    "features_pca = pca.fit_transform(features_scaled)\n",
    "\n",
    "# Make predictions using the loaded model and PCA-transformed features\n",
    "predicted_pca = loaded_model.predict(features_pca)\n",
    "\n",
    "# Calculate the percentage of each predicted class\n",
    "class_counts_pca = Counter(predicted_pca)\n",
    "\n",
    "total_samples_pca = len(predicted_pca)\n",
    "for class_label, count in class_counts_pca.items():\n",
    "    percentage_pca = (count / total_samples_pca) * 100\n",
    "    print(f\"Class {class_label}: {percentage_pca:.2f}%\")"
   ]
  }
 ],
 "metadata": {
  "kernelspec": {
   "display_name": "base",
   "language": "python",
   "name": "python3"
  },
  "language_info": {
   "codemirror_mode": {
    "name": "ipython",
    "version": 3
   },
   "file_extension": ".py",
   "mimetype": "text/x-python",
   "name": "python",
   "nbconvert_exporter": "python",
   "pygments_lexer": "ipython3",
   "version": "3.11.5"
  }
 },
 "nbformat": 4,
 "nbformat_minor": 2
}
