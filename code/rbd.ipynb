{
 "cells": [
  {
   "cell_type": "code",
   "execution_count": 1,
   "metadata": {},
   "outputs": [],
   "source": [
    "import glob as glob\n",
    "import os\n",
    "import numpy as np\n",
    "import mne \n",
    "import shutil\n",
    "from mne.datasets import eegbci\n",
    "from mne.datasets import sleep_physionet\n",
    "import matplotlib.pyplot as plt\n",
    "import pandas as pd\n",
    "from mne.preprocessing import (ICA, corrmap, create_ecg_epochs,\n",
    "                               create_eog_epochs)\n",
    "import torch\n",
    "import numpy as np\n",
    "import platform, os, re, multiprocessing\n",
    "import pyedflib\n",
    "import time  # Import the time module\n",
    "import os\n",
    "import torch\n",
    "import matplotlib.pyplot as plt\n",
    "import numpy as np\n",
    "import platform, os, re, multiprocessing\n",
    "import pandas as pd\n",
    "import pyedflib\n",
    "import mne\n",
    "import matplotlib.pyplot as plt\n",
    "import time  # Import the time module\n",
    "import os\n",
    "import mne\n",
    "import warnings\n",
    "from sklearn.preprocessing import LabelEncoder, OneHotEncoder\n",
    "from sklearn.ensemble import RandomForestClassifier, BaggingClassifier\n",
    "from sklearn.pipeline import make_pipeline\n",
    "import glob as glob\n",
    "import numpy as np\n",
    "import mne\n",
    "import shutil\n",
    "from mne.datasets import eegbci\n",
    "from mne.datasets import sleep_physionet\n",
    "import pandas as pd\n",
    "from mne.preprocessing import (ICA, corrmap, create_ecg_epochs,\n",
    "                               create_eog_epochs)\n",
    "from sklearn.model_selection import train_test_split\n",
    "from scipy.sparse import coo_matrix\n",
    "from sklearn.metrics import accuracy_score\n",
    "from sklearn.metrics import confusion_matrix\n",
    "from sklearn.metrics import classification_report\n",
    "from sklearn.preprocessing import FunctionTransformer\n",
    "from sklearn.impute import SimpleImputer\n",
    "from datetime import timedelta\n",
    "from mne.datasets import sample\n",
    "from mne.decoding import UnsupervisedSpatialFilter\n",
    "from sklearn.decomposition import PCA, FastICA\n",
    "from sklearn.svm import SVC\n",
    "from sklearn.model_selection import GridSearchCV, RandomizedSearchCV"
   ]
  },
  {
   "cell_type": "code",
   "execution_count": 2,
   "metadata": {},
   "outputs": [
    {
     "name": "stdout",
     "output_type": "stream",
     "text": [
      "['/mnt/data_lab513/data_thesis_duchuy/physionet.org/files/capslpdb/1.0.0/rbd1.edf', '/mnt/data_lab513/data_thesis_duchuy/physionet.org/files/capslpdb/1.0.0/rbd2.edf', '/mnt/data_lab513/data_thesis_duchuy/physionet.org/files/capslpdb/1.0.0/rbd3.edf', '/mnt/data_lab513/data_thesis_duchuy/physionet.org/files/capslpdb/1.0.0/rbd4.edf', '/mnt/data_lab513/data_thesis_duchuy/physionet.org/files/capslpdb/1.0.0/rbd5.edf', '/mnt/data_lab513/data_thesis_duchuy/physionet.org/files/capslpdb/1.0.0/rbd7.edf', '/mnt/data_lab513/data_thesis_duchuy/physionet.org/files/capslpdb/1.0.0/rbd8.edf', '/mnt/data_lab513/data_thesis_duchuy/physionet.org/files/capslpdb/1.0.0/rbd9.edf', '/mnt/data_lab513/data_thesis_duchuy/physionet.org/files/capslpdb/1.0.0/rbd10.edf', '/mnt/data_lab513/data_thesis_duchuy/physionet.org/files/capslpdb/1.0.0/rbd11.edf', '/mnt/data_lab513/data_thesis_duchuy/physionet.org/files/capslpdb/1.0.0/rbd12.edf', '/mnt/data_lab513/data_thesis_duchuy/physionet.org/files/capslpdb/1.0.0/rbd13.edf', '/mnt/data_lab513/data_thesis_duchuy/physionet.org/files/capslpdb/1.0.0/rbd14.edf', '/mnt/data_lab513/data_thesis_duchuy/physionet.org/files/capslpdb/1.0.0/rbd15.edf', '/mnt/data_lab513/data_thesis_duchuy/physionet.org/files/capslpdb/1.0.0/rbd16.edf', '/mnt/data_lab513/data_thesis_duchuy/physionet.org/files/capslpdb/1.0.0/rbd17.edf', '/mnt/data_lab513/data_thesis_duchuy/physionet.org/files/capslpdb/1.0.0/rbd18.edf', '/mnt/data_lab513/data_thesis_duchuy/physionet.org/files/capslpdb/1.0.0/rbd19.edf', '/mnt/data_lab513/data_thesis_duchuy/physionet.org/files/capslpdb/1.0.0/rbd20.edf', '/mnt/data_lab513/data_thesis_duchuy/physionet.org/files/capslpdb/1.0.0/rbd21.edf', '/mnt/data_lab513/data_thesis_duchuy/physionet.org/files/capslpdb/1.0.0/rbd22.edf']\n"
     ]
    }
   ],
   "source": [
    "import glob\n",
    "import os\n",
    "\n",
    "path = \"/mnt/data_lab513/data_thesis_duchuy/physionet.org/files/capslpdb/1.0.0/\"\n",
    "raw_list = []\n",
    "\n",
    "for i in range(1,23):  # Adjust the range as needed based on the number of files you have\n",
    "    pattern = f\"rbd{i}.edf\"\n",
    "    file_path = os.path.join(path, pattern)\n",
    "    if os.path.exists(file_path):\n",
    "        raw_list.append(file_path)\n",
    "\n",
    "print(raw_list)"
   ]
  },
  {
   "cell_type": "code",
   "execution_count": 3,
   "metadata": {},
   "outputs": [
    {
     "name": "stdout",
     "output_type": "stream",
     "text": [
      "[<RawEDF | rbd1.edf, 15 x 3874688 (30271.0 s), ~443.4 MB, data loaded>, <RawEDF | rbd2.edf, 20 x 4584960 (35820.0 s), ~699.6 MB, data loaded>, <RawEDF | rbd3.edf, 24 x 4646400 (36300.0 s), ~850.8 MB, data loaded>, <RawEDF | rbd4.edf, 18 x 6597248 (51541.0 s), ~906.0 MB, data loaded>, <RawEDF | rbd5.edf, 22 x 4454400 (34800.0 s), ~747.7 MB, data loaded>, <RawEDF | rbd7.edf, 23 x 4047488 (31621.0 s), ~710.3 MB, data loaded>, <RawEDF | rbd8.edf, 22 x 4124288 (32221.0 s), ~692.3 MB, data loaded>, <RawEDF | rbd9.edf, 20 x 4539008 (35461.0 s), ~692.6 MB, data loaded>, <RawEDF | rbd10.edf, 22 x 3294848 (25741.0 s), ~553.1 MB, data loaded>, <RawEDF | rbd11.edf, 22 x 3294848 (25741.0 s), ~553.1 MB, data loaded>, <RawEDF | rbd12.edf, 23 x 4120448 (32191.0 s), ~723.1 MB, data loaded>, <RawEDF | rbd13.edf, 23 x 4005120 (31290.0 s), ~702.8 MB, data loaded>, <RawEDF | rbd14.edf, 16 x 4285568 (33481.0 s), ~523.2 MB, data loaded>, <RawEDF | rbd15.edf, 12 x 6516608 (50911.0 s), ~596.6 MB, data loaded>, <RawEDF | rbd16.edf, 24 x 4216448 (32941.0 s), ~772.1 MB, data loaded>, <RawEDF | rbd17.edf, 18 x 4009088 (31321.0 s), ~550.6 MB, data loaded>, <RawEDF | rbd18.edf, 22 x 4224000 (33000.0 s), ~709.0 MB, data loaded>, <RawEDF | rbd19.edf, 20 x 4412160 (34470.0 s), ~673.3 MB, data loaded>, <RawEDF | rbd20.edf, 16 x 3890048 (30391.0 s), ~474.9 MB, data loaded>, <RawEDF | rbd21.edf, 20 x 3886080 (30360.0 s), ~593.0 MB, data loaded>, <RawEDF | rbd22.edf, 20 x 4527360 (35370.0 s), ~690.8 MB, data loaded>]\n"
     ]
    }
   ],
   "source": [
    "# Define the desired sampling frequency\n",
    "desired_sfreq = 128\n",
    "\n",
    "# Read each file and append to a list of Raw objects\n",
    "raw_objects = []\n",
    "for file in raw_list:\n",
    "    raw = mne.io.read_raw_edf(file, preload=True, verbose=0, infer_types=True)\n",
    "    raw_objects.append(raw)\n",
    "\n",
    "# Resample each Raw object to the desired sampling frequency\n",
    "for raw_obj in raw_objects:\n",
    "    raw_obj.resample(desired_sfreq)\n",
    "\n",
    "print(raw_objects)"
   ]
  },
  {
   "cell_type": "code",
   "execution_count": 4,
   "metadata": {},
   "outputs": [
    {
     "name": "stdout",
     "output_type": "stream",
     "text": [
      "<Annotations | 932 segments: MT (5), R (126), S1 (52), S2 (472), S3 (61), ...>\n",
      "<Annotations | 1912 segments: R (182), S1 (24), S2 (788), S3 (390), S4 ...>\n",
      "<Annotations | 1764 segments: R (127), S1 (22), S2 (911), S3 (260), S4 ...>\n",
      "<Annotations | 1817 segments: R (293), S1 (17), S2 (862), S3 (395), S4 ...>\n",
      "<Annotations | 1711 segments: R (165), S1 (3), S2 (863), S3 (239), S4 ...>\n",
      "<Annotations | 1413 segments: R (66), S1 (35), S2 (596), S3 (374), S4 ...>\n",
      "<Annotations | 1658 segments: MT (1), R (144), S1 (26), S2 (289), S3 ...>\n",
      "<Annotations | 1448 segments: R (206), S1 (53), S2 (396), S3 (322), S4 ...>\n",
      "<Annotations | 1071 segments: MT (5), R (81), S1 (160), S2 (258), S3 (45), ...>\n",
      "<Annotations | 1067 segments: MT (5), R (81), S1 (168), S2 (242), S3 (45), ...>\n",
      "<Annotations | 1433 segments: MT (5), R (160), S1 (24), S2 (801), S3 ...>\n",
      "<Annotations | 1802 segments: R (200), S1 (10), S2 (1114), S3 (190), S4 ...>\n",
      "<Annotations | 1537 segments: MT (2), R (296), S1 (162), S2 (525), S3 ...>\n",
      "<Annotations | 1234 segments: MT (1), R (164), S1 (34), S2 (458), S3 (88), ...>\n",
      "<Annotations | 1541 segments: R (115), S1 (147), S2 (874), S3 (137), S4 ...>\n",
      "<Annotations | 1598 segments: MT (1), R (139), S1 (109), S2 (539), S3 ...>\n",
      "<Annotations | 1293 segments: R (92), S1 (17), S2 (577), S3 (83), S4 ...>\n",
      "<Annotations | 1476 segments: R (134), S1 (234), S2 (529), S3 (121), S4 ...>\n",
      "<Annotations | 1120 segments: R (185), S1 (32), S2 (223), S3 (289), S4 ...>\n",
      "<Annotations | 1680 segments: MT (22), R (128), S1 (125), S2 (722), S3 ...>\n",
      "<Annotations | 1517 segments: R (300), S1 (70), S2 (664), S3 (114), S4 ...>\n"
     ]
    }
   ],
   "source": [
    "path_csv = \"/home/Duchuy220602/thesis/file_csv\"\n",
    "csv_list = []\n",
    "\n",
    "for i in range(1, 23):  # Adjust the range as needed based on the number of files you have\n",
    "    file_pattern = f\"rbd{i}.csv\"\n",
    "    file_path = os.path.join(path_csv, file_pattern)\n",
    "    if os.path.exists(file_path):\n",
    "        csv_list.append(file_path)\n",
    "\n",
    "\n",
    "for i in range(len(raw_objects)):\n",
    "    raw = raw_objects[i]\n",
    "    csv = csv_list[i]\n",
    "\n",
    "    df = pd.read_csv(csv)\n",
    "\n",
    "    # Convert the 'Time [hh:mm:ss]' column to a time format\n",
    "    df['Time [hh:mm:ss]'] = pd.to_datetime(df['Time [hh:mm:ss]'], format='%H:%M:%S').dt.time\n",
    "\n",
    "    # Extract the necessary columns from your DataFrame\n",
    "    duration = df['Duration[s]']\n",
    "    description = df['Sleep Stage']\n",
    "\n",
    "    # Convert onset times to seconds\n",
    "    onset = list(range(0, len(df)))  # Replace with your actual onset times\n",
    "\n",
    "    # Create MNE Annotations\n",
    "    my_annot = mne.Annotations(onset=onset, duration=duration, description=description)\n",
    "\n",
    "    # Set annotations on the copied EEG data\n",
    "    raw.set_annotations(my_annot)\n",
    "\n",
    "    # Print the annotations\n",
    "    print(raw.annotations)"
   ]
  },
  {
   "cell_type": "code",
   "execution_count": 5,
   "metadata": {},
   "outputs": [],
   "source": [
    "# for i, raw in enumerate(raw_objects):\n",
    "#     print(f\"Plotting Raw object {i+1}...\")\n",
    "#     raw.plot()"
   ]
  },
  {
   "cell_type": "code",
   "execution_count": 6,
   "metadata": {},
   "outputs": [],
   "source": [
    "# # Define the current and new channel names\n",
    "# current_channel_names = ['C4A1']\n",
    "# new_channel_names = ['C4-A1']\n",
    "\n",
    "# # Iterate over the list of Raw objects\n",
    "# for i in range(len(raw_objects)):\n",
    "#     raw = raw_objects[i]\n",
    "    \n",
    "#     # Check if the current Raw object contains any of the channels to be renamed\n",
    "#     if any(channel in raw.ch_names for channel in current_channel_names):\n",
    "#         # Create a channel map that maps the old channel names to the new channel names\n",
    "#         channel_map = {current_channel_names[i]: new_channel_names[i] for i in range(len(current_channel_names)) if current_channel_names[i] in raw.ch_names}\n",
    "\n",
    "#         # Rename the channels in the Raw object\n",
    "#         raw.rename_channels(channel_map)\n",
    "\n",
    "#         # Print the new channel names\n",
    "#         print(raw.ch_names)"
   ]
  },
  {
   "cell_type": "code",
   "execution_count": 7,
   "metadata": {},
   "outputs": [],
   "source": [
    "# Define a dictionary mapping channel names to their types\n",
    "channel_types = {\n",
    "\"Fp2-F4\": \"eeg\",\n",
    "\"F4-C4\": \"eeg\",\n",
    "\"C4-P4\": \"eeg\",\n",
    "\"P4-O2\": \"eeg\",\n",
    "\"C4-A1\": \"eeg\", \n",
    "}\n",
    "\n",
    "# Define the default type for EEG channels\n",
    "default_type = 'stim'\n",
    "\n",
    "# Apply the channel type mapping to all Raw objects\n",
    "for i in range(len(raw_objects)):\n",
    "    raw = raw_objects[i]\n",
    "    # Get the channel names that are present in both the Raw object and the channel_types dictionary\n",
    "    common_channel_names = set(raw.ch_names) & set(channel_types.keys())\n",
    "    if not common_channel_names:\n",
    "        print(f\"No common channels found between the Raw object and the channel_types dictionary. Skipping...\")\n",
    "        continue\n",
    "\n",
    "    # Set channel types for selected channels\n",
    "    channel_types_dict = {channel_name: channel_types.get(channel_name, default_type) for channel_name in common_channel_names}\n",
    "    raw.set_channel_types(channel_types_dict)\n",
    "\n",
    "    # Select only the EEG channels\n",
    "    eeg_channel_names = [channel_name for channel_name in common_channel_names if channel_types_dict[channel_name] == 'eeg']\n",
    "    if eeg_channel_names:\n",
    "        raw = raw.pick(eeg_channel_names)\n",
    "    else:\n",
    "        print(f\"No EEG channels found in the Raw object. Skipping...\")"
   ]
  },
  {
   "cell_type": "code",
   "execution_count": 8,
   "metadata": {},
   "outputs": [
    {
     "name": "stdout",
     "output_type": "stream",
     "text": [
      "Raw object 1 has 5 channels.\n",
      "Raw object 2 has 5 channels.\n",
      "Raw object 3 has 5 channels.\n",
      "Raw object 4 has 5 channels.\n",
      "Raw object 5 has 5 channels.\n",
      "Raw object 6 has 5 channels.\n",
      "Raw object 7 has 5 channels.\n",
      "Raw object 8 has 5 channels.\n",
      "Raw object 9 has 5 channels.\n",
      "Raw object 10 has 5 channels.\n",
      "Raw object 11 has 5 channels.\n",
      "Raw object 12 has 5 channels.\n",
      "Raw object 13 has 5 channels.\n",
      "Raw object 14 has 5 channels.\n",
      "Raw object 15 has 5 channels.\n",
      "Raw object 16 has 5 channels.\n",
      "Raw object 17 has 5 channels.\n",
      "Raw object 18 has 5 channels.\n",
      "Raw object 19 has 5 channels.\n",
      "Raw object 20 has 5 channels.\n",
      "Raw object 21 has 5 channels.\n"
     ]
    }
   ],
   "source": [
    "for i, raw in enumerate(raw_objects):\n",
    "    print(f\"Raw object {i+1} has {raw.info['nchan']} channels.\")"
   ]
  },
  {
   "cell_type": "code",
   "execution_count": 9,
   "metadata": {},
   "outputs": [
    {
     "name": "stdout",
     "output_type": "stream",
     "text": [
      "Raw object 1 (/mnt/data_lab513/data_thesis_duchuy/physionet.org/files/capslpdb/1.0.0/rbd1.edf)\n",
      "Raw object 2 (/mnt/data_lab513/data_thesis_duchuy/physionet.org/files/capslpdb/1.0.0/rbd2.edf)\n",
      "Raw object 3 (/mnt/data_lab513/data_thesis_duchuy/physionet.org/files/capslpdb/1.0.0/rbd3.edf)\n",
      "Raw object 4 (/mnt/data_lab513/data_thesis_duchuy/physionet.org/files/capslpdb/1.0.0/rbd4.edf)\n",
      "Raw object 5 (/mnt/data_lab513/data_thesis_duchuy/physionet.org/files/capslpdb/1.0.0/rbd5.edf)\n",
      "Raw object 6 (/mnt/data_lab513/data_thesis_duchuy/physionet.org/files/capslpdb/1.0.0/rbd7.edf)\n",
      "Raw object 7 (/mnt/data_lab513/data_thesis_duchuy/physionet.org/files/capslpdb/1.0.0/rbd8.edf)\n",
      "Raw object 8 (/mnt/data_lab513/data_thesis_duchuy/physionet.org/files/capslpdb/1.0.0/rbd9.edf)\n",
      "Raw object 9 (/mnt/data_lab513/data_thesis_duchuy/physionet.org/files/capslpdb/1.0.0/rbd10.edf)\n",
      "Raw object 10 (/mnt/data_lab513/data_thesis_duchuy/physionet.org/files/capslpdb/1.0.0/rbd11.edf)\n",
      "Raw object 11 (/mnt/data_lab513/data_thesis_duchuy/physionet.org/files/capslpdb/1.0.0/rbd12.edf)\n",
      "Raw object 12 (/mnt/data_lab513/data_thesis_duchuy/physionet.org/files/capslpdb/1.0.0/rbd13.edf)\n",
      "Raw object 13 (/mnt/data_lab513/data_thesis_duchuy/physionet.org/files/capslpdb/1.0.0/rbd14.edf)\n",
      "Raw object 14 (/mnt/data_lab513/data_thesis_duchuy/physionet.org/files/capslpdb/1.0.0/rbd15.edf)\n",
      "Raw object 15 (/mnt/data_lab513/data_thesis_duchuy/physionet.org/files/capslpdb/1.0.0/rbd16.edf)\n",
      "Raw object 16 (/mnt/data_lab513/data_thesis_duchuy/physionet.org/files/capslpdb/1.0.0/rbd17.edf)\n",
      "Raw object 17 (/mnt/data_lab513/data_thesis_duchuy/physionet.org/files/capslpdb/1.0.0/rbd18.edf)\n",
      "Raw object 18 (/mnt/data_lab513/data_thesis_duchuy/physionet.org/files/capslpdb/1.0.0/rbd19.edf)\n",
      "Raw object 19 (/mnt/data_lab513/data_thesis_duchuy/physionet.org/files/capslpdb/1.0.0/rbd20.edf)\n",
      "Raw object 20 (/mnt/data_lab513/data_thesis_duchuy/physionet.org/files/capslpdb/1.0.0/rbd21.edf)\n",
      "Raw object 21 (/mnt/data_lab513/data_thesis_duchuy/physionet.org/files/capslpdb/1.0.0/rbd22.edf)\n"
     ]
    }
   ],
   "source": [
    "for i, raw in enumerate(raw_objects):\n",
    "    print(f\"Raw object {i+1} ({raw.filenames[0]})\")"
   ]
  },
  {
   "cell_type": "code",
   "execution_count": 10,
   "metadata": {},
   "outputs": [],
   "source": [
    "# for i, raw in enumerate(raw_objects):\n",
    "#     print(f\"Plotting Raw object {i+1}...\")\n",
    "#     raw.plot()"
   ]
  },
  {
   "cell_type": "code",
   "execution_count": 11,
   "metadata": {},
   "outputs": [],
   "source": [
    "# If you want to concatenate the Raw objects into a single object\n",
    "raw = mne.concatenate_raws(raw_objects)"
   ]
  },
  {
   "cell_type": "code",
   "execution_count": 12,
   "metadata": {},
   "outputs": [
    {
     "name": "stdout",
     "output_type": "stream",
     "text": [
      "<Annotations | 31064 segments: BAD boundary (20), EDGE boundary (20), MT ...>\n"
     ]
    }
   ],
   "source": [
    "# Print the concatenated annotations\n",
    "print(raw.annotations)"
   ]
  },
  {
   "cell_type": "code",
   "execution_count": 13,
   "metadata": {},
   "outputs": [
    {
     "name": "stdout",
     "output_type": "stream",
     "text": [
      "Writing /home/Duchuy220602/thesis/modify_file/rbd_concatenated_raw.fif\n",
      "Closing /home/Duchuy220602/thesis/modify_file/rbd_concatenated_raw.fif\n",
      "[done]\n"
     ]
    }
   ],
   "source": [
    "raw.save('/home/Duchuy220602/thesis/modify_file/rbd_concatenated_raw.fif', overwrite=True)"
   ]
  }
 ],
 "metadata": {
  "kernelspec": {
   "display_name": "Python",
   "language": "python",
   "name": "python3"
  },
  "language_info": {
   "codemirror_mode": {
    "name": "ipython",
    "version": 3
   },
   "file_extension": ".py",
   "mimetype": "text/x-python",
   "name": "python",
   "nbconvert_exporter": "python",
   "pygments_lexer": "ipython3",
   "version": "3.11.5"
  }
 },
 "nbformat": 4,
 "nbformat_minor": 2
}
